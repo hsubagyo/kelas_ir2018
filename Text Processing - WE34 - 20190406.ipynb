{
 "cells": [
  {
   "cell_type": "markdown",
   "metadata": {},
   "source": [
    "### Baca File\n",
    "Buka file, dan baca langsung seluruh konten dari file."
   ]
  },
  {
   "cell_type": "code",
   "execution_count": 1,
   "metadata": {
    "collapsed": false
   },
   "outputs": [
    {
     "name": "stdout",
     "output_type": "stream",
     "text": [
      "January\n",
      "February\n",
      "March\n",
      "April\n",
      "Juni\n",
      "Juli\n",
      "\n"
     ]
    }
   ],
   "source": [
    "f = open(\"months.txt\")\n",
    "print(f.read())\n"
   ]
  },
  {
   "cell_type": "markdown",
   "metadata": {},
   "source": [
    "Buka file, dan baca per karakter"
   ]
  },
  {
   "cell_type": "code",
   "execution_count": 3,
   "metadata": {
    "collapsed": false
   },
   "outputs": [
    {
     "name": "stdout",
     "output_type": "stream",
     "text": [
      "J\n",
      "a\n",
      "n\n",
      "u\n",
      "a\n",
      "r\n",
      "y\n",
      "\n",
      "\n",
      "F\n",
      "e\n",
      "b\n",
      "r\n",
      "u\n",
      "a\n",
      "r\n",
      "y\n",
      "\n",
      "\n",
      "M\n",
      "a\n",
      "r\n",
      "c\n",
      "h\n",
      "\n",
      "\n",
      "A\n",
      "p\n",
      "r\n",
      "i\n",
      "l\n",
      "\n",
      "\n",
      "J\n",
      "u\n",
      "n\n",
      "i\n",
      "\n",
      "\n",
      "J\n",
      "u\n",
      "l\n",
      "i\n",
      "\n",
      "\n"
     ]
    }
   ],
   "source": [
    "f = open(\"months.txt\")\n",
    "nextChar = f.read(1)\n",
    "while nextChar != \"\":\n",
    "    print(nextChar)\n",
    "    nextChar = f.read(1)"
   ]
  },
  {
   "cell_type": "markdown",
   "metadata": {},
   "source": [
    "Baca per baris. "
   ]
  },
  {
   "cell_type": "code",
   "execution_count": 4,
   "metadata": {
    "collapsed": false
   },
   "outputs": [
    {
     "name": "stdout",
     "output_type": "stream",
     "text": [
      "January\n",
      "\n",
      "February\n",
      "\n",
      "March\n",
      "\n",
      "April\n",
      "\n",
      "Juni\n",
      "\n",
      "Juli\n",
      "\n"
     ]
    }
   ],
   "source": [
    "f = open(\"months.txt\")\n",
    "nextLine = f.readline()\n",
    "while nextLine != \"\":\n",
    "    print(nextLine)\n",
    "    nextLine = f.readline()"
   ]
  },
  {
   "cell_type": "markdown",
   "metadata": {},
   "source": [
    "Kenapa ada baris kosong setiap print(nextLine)?\n",
    "Karena  .... "
   ]
  },
  {
   "cell_type": "markdown",
   "metadata": {},
   "source": [
    "Baca file per baris, dan strip(menghilangkan/membuant) karakter \"\\n\" di akhir baris."
   ]
  },
  {
   "cell_type": "code",
   "execution_count": 11,
   "metadata": {
    "collapsed": false
   },
   "outputs": [
    {
     "name": "stdout",
     "output_type": "stream",
     "text": [
      "January\n",
      "February\n",
      "March\n",
      "April\n",
      "Juni\n",
      "Juli\n"
     ]
    }
   ],
   "source": [
    "f = open(\"months.txt\")\n",
    "nextLine = f.readline()\n",
    "while nextLine != \"\":\n",
    "    print( nextLine.strip() )\n",
    "    nextLine = f.readline()\n",
    "    "
   ]
  },
  {
   "cell_type": "markdown",
   "metadata": {},
   "source": [
    "Baca seluruh baris, masukkan data dalam bentuk list"
   ]
  },
  {
   "cell_type": "code",
   "execution_count": 3,
   "metadata": {
    "collapsed": false
   },
   "outputs": [
    {
     "name": "stdout",
     "output_type": "stream",
     "text": [
      "['January\\n', 'February\\n', 'March\\n', 'April\\n', 'Juni\\n', 'Juli\\n']\n",
      "January\n",
      "\n",
      "April\n",
      "\n",
      "January\n",
      "\n",
      "J\n",
      "ada\n"
     ]
    }
   ],
   "source": [
    "f = open(\"months.txt\")\n",
    "data = f.readlines()\n",
    "print data\n",
    "print data[0]\n",
    "print data[3]\n",
    "d = data[0]\n",
    "print d\n",
    "print d[0]\n",
    "if 'January\\n' in data:\n",
    "    print \"ada\""
   ]
  },
  {
   "cell_type": "code",
   "execution_count": 25,
   "metadata": {
    "collapsed": false,
    "scrolled": true
   },
   "outputs": [
    {
     "name": "stdout",
     "output_type": "stream",
     "text": [
      "a\n",
      "e\n",
      "a\n",
      "p\n",
      "u\n",
      "u\n"
     ]
    }
   ],
   "source": [
    "f = open(\"months.txt\")\n",
    "data = f.readlines()\n",
    "for d in data:\n",
    "    print(d[1])\n",
    "#    print(d.strip())"
   ]
  },
  {
   "cell_type": "code",
   "execution_count": 28,
   "metadata": {
    "collapsed": false
   },
   "outputs": [
    {
     "data": {
      "text/plain": [
       "'u'"
      ]
     },
     "execution_count": 28,
     "metadata": {},
     "output_type": "execute_result"
    }
   ],
   "source": [
    "d[1]"
   ]
  },
  {
   "cell_type": "code",
   "execution_count": 10,
   "metadata": {
    "collapsed": false
   },
   "outputs": [
    {
     "data": {
      "text/plain": [
       "'Juni\\n'"
      ]
     },
     "execution_count": 10,
     "metadata": {},
     "output_type": "execute_result"
    }
   ],
   "source": [
    "data[-2]"
   ]
  },
  {
   "cell_type": "code",
   "execution_count": 30,
   "metadata": {
    "collapsed": false,
    "scrolled": true
   },
   "outputs": [
    {
     "name": "stdout",
     "output_type": "stream",
     "text": [
      "1\n",
      "5\n",
      "8\n",
      "0\n"
     ]
    }
   ],
   "source": [
    "a = [[1,3],[5,7],[8,9],[0,1]]\n",
    "for i in a:\n",
    "    print(i[0])"
   ]
  },
  {
   "cell_type": "code",
   "execution_count": 23,
   "metadata": {
    "collapsed": false
   },
   "outputs": [
    {
     "name": "stdout",
     "output_type": "stream",
     "text": [
      "k\n",
      "t\n",
      "e\n"
     ]
    }
   ],
   "source": [
    "b = [\"bakso\",\"sate\",\"mie ayam\"]\n",
    "for i in b:\n",
    "    print (i[2])"
   ]
  },
  {
   "cell_type": "code",
   "execution_count": 1,
   "metadata": {
    "collapsed": false,
    "scrolled": true
   },
   "outputs": [
    {
     "name": "stdout",
     "output_type": "stream",
     "text": [
      "['January\\n', 'February\\n', 'March\\n', 'April\\n', 'Juni\\n', 'Juli\\n']\n",
      "['January\\n', 'February\\n', 'March\\n', 'April\\n', 'Juni\\n', 'Juli\\n']\n"
     ]
    }
   ],
   "source": [
    "f = open(\"months.txt\")\n",
    "m2 = []\n",
    "data = f.readlines()\n",
    "for d in data:\n",
    "    m2.append(d)\n",
    "\n",
    "print data\n",
    "print m2"
   ]
  },
  {
   "cell_type": "code",
   "execution_count": 1,
   "metadata": {
    "collapsed": false
   },
   "outputs": [],
   "source": [
    "# -- TUGAS ---\n",
    "# hitung jumlah huruf dalam file months.txt\n",
    "# huruf = [ ['a',2], ['b',5], ['c',1] ... ]\n",
    "f = open(\"months.txt\")\n",
    "nextChar = f.read(1)\n",
    "huruf = []\n",
    "while nextChar != \"\":\n",
    "    #print nextChar\n",
    "    # kalo karakter/huruf belum ada maka masukkan ke data huruf\n",
    "    # kalo karakter/huruf sudah ada maka tambahkan jumlahnya\n",
    "    nextChar = f.read(1)\n",
    "\n",
    "# print data huruf dan jumlahnya\n",
    "# output:\n",
    "# [ ['J',3], ['a',4], ['n',2], ... ]"
   ]
  },
  {
   "cell_type": "markdown",
   "metadata": {},
   "source": [
    "### Menulis ke file"
   ]
  },
  {
   "cell_type": "code",
   "execution_count": 22,
   "metadata": {
    "collapsed": false
   },
   "outputs": [],
   "source": [
    "f = open(\"newfile.txt\",\"w\")\n",
    "f.write(\"hello\\nworld\")\n",
    "f.close()"
   ]
  },
  {
   "cell_type": "markdown",
   "metadata": {},
   "source": [
    "### Mengolah data String\n"
   ]
  },
  {
   "cell_type": "code",
   "execution_count": 33,
   "metadata": {
    "collapsed": false
   },
   "outputs": [
    {
     "data": {
      "text/plain": [
       "'Angeline bla'"
      ]
     },
     "execution_count": 33,
     "metadata": {},
     "output_type": "execute_result"
    }
   ],
   "source": [
    "d = \"Angeline bla - Plum\"\n",
    "name,choice = d.split(\" - \")\n",
    "e = d.split(\" - \")\n",
    "e[0]"
   ]
  },
  {
   "cell_type": "code",
   "execution_count": 34,
   "metadata": {
    "collapsed": false
   },
   "outputs": [
    {
     "data": {
      "text/plain": [
       "'Angeline bla'"
      ]
     },
     "execution_count": 34,
     "metadata": {},
     "output_type": "execute_result"
    }
   ],
   "source": [
    "name"
   ]
  },
  {
   "cell_type": "code",
   "execution_count": 1,
   "metadata": {
    "collapsed": false
   },
   "outputs": [
    {
     "name": "stdout",
     "output_type": "stream",
     "text": [
      "name:\tAngelina Belmore\n",
      "choice:\tPlum Purple\n",
      "name:\tFred Smith\n",
      "choice:\tRed king\n",
      "name:\tMatthew Wroe\n",
      "choice:\tWhite Icicle\n",
      "name:\tKeira Cani\n",
      "choice:\tSicily Giant\n",
      "name:\tIsaac Hallstrom\n",
      "choice:\tRed King\n",
      "name:\tJin Li\n",
      "choice:\tWhite Icicle\n",
      "name:\tGeorgia McKellar\n",
      "choice:\tBunny Tail\n",
      "name:\tMaximilian Avdeev\n",
      "choice:\tCherry Belle\n",
      "name:\tLorna Beneventi\n",
      "choice:\tWhite Icicle\n",
      "name:\tLara Tunnecliffe\n",
      "choice:\tPlum Purple\n",
      "name:\tHugo Sodersten\n",
      "choice:\tDaikon\n"
     ]
    }
   ],
   "source": [
    "f = open(\"radishsurvey.txt\")\n",
    "data = f.readlines()\n",
    "for d in data:\n",
    "    d = d.strip()\n",
    "    name,choice = d.split(\" - \")\n",
    "    print(\"name:\\t\" + name)\n",
    "    print(\"choice:\\t\" + choice)"
   ]
  },
  {
   "cell_type": "code",
   "execution_count": 3,
   "metadata": {
    "collapsed": false
   },
   "outputs": [
    {
     "name": "stdout",
     "output_type": "stream",
     "text": [
      "2\n"
     ]
    }
   ],
   "source": [
    "f = open(\"radishsurvey.txt\")\n",
    "count = 0\n",
    "data = f.readlines()\n",
    "for d in data:\n",
    "    d = d.strip()\n",
    "    name,choice = d.split(\" - \")\n",
    "    if choice == \"Red King\":\n",
    "        count += 1\n",
    "        \n",
    "print(count)"
   ]
  },
  {
   "cell_type": "code",
   "execution_count": 5,
   "metadata": {
    "collapsed": false
   },
   "outputs": [
    {
     "name": "stdout",
     "output_type": "stream",
     "text": [
      "2\n"
     ]
    }
   ],
   "source": [
    "f = open(\"radishsurvey.txt\")\n",
    "count = 0\n",
    "nextLine = f.readline()\n",
    "while nextLine != \"\":\n",
    "    name,choice = nextLine.strip().split(\" - \")\n",
    "    if choice == \"Red King\":\n",
    "        count += 1\n",
    "    nextLine = f.readline()\n",
    "    \n",
    "print(count)"
   ]
  },
  {
   "cell_type": "code",
   "execution_count": 13,
   "metadata": {
    "collapsed": false
   },
   "outputs": [],
   "source": [
    "ddata = {}\n",
    "data = [\"a\",\"a\",\"b\",\"c\",\"b\",\"a\",\"b\"]\n",
    "for d in data:\n",
    "    if d not in ddata:\n",
    "        # d pertama kali muncul di dictionary ddata\n",
    "        ddata[d] = 1\n",
    "    else:\n",
    "        ddata[d] = ddata[d] + 1\n",
    "    "
   ]
  },
  {
   "cell_type": "code",
   "execution_count": 14,
   "metadata": {
    "collapsed": false
   },
   "outputs": [
    {
     "data": {
      "text/plain": [
       "{'a': 3, 'b': 3, 'c': 1}"
      ]
     },
     "execution_count": 14,
     "metadata": {},
     "output_type": "execute_result"
    }
   ],
   "source": [
    "ddata"
   ]
  },
  {
   "cell_type": "code",
   "execution_count": 20,
   "metadata": {
    "collapsed": false
   },
   "outputs": [
    {
     "data": {
      "text/plain": [
       "{' cherry belle': 2,\n",
       " ' daikon': 1,\n",
       " ' plum purple': 2,\n",
       " ' red king': 1,\n",
       " ' sicily giant': 1,\n",
       " ' snow belle': 2,\n",
       " ' white icicle': 1,\n",
       " 'April cross': 72,\n",
       " 'Bunny tail': 72,\n",
       " 'Champion': 76,\n",
       " 'Cherry belle': 56,\n",
       " 'Daikon': 62,\n",
       " 'French breakfast': 72,\n",
       " 'Plum purple': 55,\n",
       " 'Red king': 55,\n",
       " 'Sicily giant': 56,\n",
       " 'Snow belle': 61,\n",
       " 'White icicle': 64}"
      ]
     },
     "execution_count": 20,
     "metadata": {},
     "output_type": "execute_result"
    }
   ],
   "source": [
    "def munge(data):\n",
    "    data = data.capitalize()\n",
    "    data = data.replace(\"  \",\" \")\n",
    "    return data\n",
    "\n",
    "f = open(\"radishsurvey_long.txt\")\n",
    "count = {}\n",
    "nextLine = f.readline()\n",
    "while nextLine != \"\":\n",
    "    name,choice = nextLine.strip().split(\" - \")\n",
    "    name = munge(name)\n",
    "    choice = munge(choice)\n",
    "    if choice not in count:\n",
    "        count[choice] = 1\n",
    "    else:\n",
    "        count[choice] += 1\n",
    "    nextLine = f.readline()\n",
    "    \n",
    "count"
   ]
  },
  {
   "cell_type": "markdown",
   "metadata": {
    "collapsed": true
   },
   "source": [
    "### Tokenization dengan split()\n"
   ]
  },
  {
   "cell_type": "code",
   "execution_count": 35,
   "metadata": {
    "collapsed": true
   },
   "outputs": [],
   "source": [
    "text = \"Ini bapak Budi. Bapak Budi pergi ke pasar. Di pasar ada ibu Budi. Bapak pulang ketemu Budi.\""
   ]
  },
  {
   "cell_type": "code",
   "execution_count": 36,
   "metadata": {
    "collapsed": false
   },
   "outputs": [
    {
     "data": {
      "text/plain": [
       "'Ini bapak Budi. Bapak Budi pergi ke pasar. Di pasar ada ibu Budi. Bapak pulang ketemu Budi.'"
      ]
     },
     "execution_count": 36,
     "metadata": {},
     "output_type": "execute_result"
    }
   ],
   "source": [
    "text"
   ]
  },
  {
   "cell_type": "code",
   "execution_count": 37,
   "metadata": {
    "collapsed": true
   },
   "outputs": [],
   "source": [
    "words = text.split()"
   ]
  },
  {
   "cell_type": "code",
   "execution_count": 38,
   "metadata": {
    "collapsed": false
   },
   "outputs": [
    {
     "data": {
      "text/plain": [
       "['Ini',\n",
       " 'bapak',\n",
       " 'Budi.',\n",
       " 'Bapak',\n",
       " 'Budi',\n",
       " 'pergi',\n",
       " 'ke',\n",
       " 'pasar.',\n",
       " 'Di',\n",
       " 'pasar',\n",
       " 'ada',\n",
       " 'ibu',\n",
       " 'Budi.',\n",
       " 'Bapak',\n",
       " 'pulang',\n",
       " 'ketemu',\n",
       " 'Budi.']"
      ]
     },
     "execution_count": 38,
     "metadata": {},
     "output_type": "execute_result"
    }
   ],
   "source": [
    "words"
   ]
  },
  {
   "cell_type": "code",
   "execution_count": 43,
   "metadata": {
    "collapsed": false
   },
   "outputs": [
    {
     "data": {
      "text/plain": [
       "['ini bapak budi',\n",
       " ' bapak budi pergi ke pasar',\n",
       " ' di pasar ada ibu budi',\n",
       " ' bapak pulang ketemu budi',\n",
       " '']"
      ]
     },
     "execution_count": 43,
     "metadata": {},
     "output_type": "execute_result"
    }
   ],
   "source": [
    "sentences = text.lower().split(\".\")\n",
    "sentences"
   ]
  },
  {
   "cell_type": "code",
   "execution_count": 46,
   "metadata": {
    "collapsed": false
   },
   "outputs": [],
   "source": [
    "count = {}\n",
    "for s in sentences:\n",
    "    words = s.split()\n",
    "    for w in words:\n",
    "        if w not in count:\n",
    "            count[w] = 1\n",
    "        else:\n",
    "            count[w] = count[w] + 1"
   ]
  },
  {
   "cell_type": "code",
   "execution_count": 47,
   "metadata": {
    "collapsed": false
   },
   "outputs": [
    {
     "data": {
      "text/plain": [
       "3"
      ]
     },
     "execution_count": 47,
     "metadata": {},
     "output_type": "execute_result"
    }
   ],
   "source": [
    "count['bapak']"
   ]
  },
  {
   "cell_type": "code",
   "execution_count": null,
   "metadata": {
    "collapsed": true
   },
   "outputs": [],
   "source": []
  }
 ],
 "metadata": {
  "kernelspec": {
   "display_name": "Python 2",
   "language": "python",
   "name": "python2"
  },
  "language_info": {
   "codemirror_mode": {
    "name": "ipython",
    "version": 2
   },
   "file_extension": ".py",
   "mimetype": "text/x-python",
   "name": "python",
   "nbconvert_exporter": "python",
   "pygments_lexer": "ipython2",
   "version": "2.7.10"
  }
 },
 "nbformat": 4,
 "nbformat_minor": 0
}
